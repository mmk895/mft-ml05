{
 "cells": [
  {
   "cell_type": "code",
   "execution_count": 39,
   "metadata": {},
   "outputs": [
    {
     "name": "stdout",
     "output_type": "stream",
     "text": [
      "Requirement already satisfied: pandas in c:\\users\\kalan\\anaconda3\\lib\\site-packages (2.2.2)\n",
      "Requirement already satisfied: numpy>=1.26.0 in c:\\users\\kalan\\anaconda3\\lib\\site-packages (from pandas) (1.26.4)\n",
      "Requirement already satisfied: python-dateutil>=2.8.2 in c:\\users\\kalan\\appdata\\roaming\\python\\python312\\site-packages (from pandas) (2.9.0.post0)\n",
      "Requirement already satisfied: pytz>=2020.1 in c:\\users\\kalan\\anaconda3\\lib\\site-packages (from pandas) (2024.1)\n",
      "Requirement already satisfied: tzdata>=2022.7 in c:\\users\\kalan\\anaconda3\\lib\\site-packages (from pandas) (2023.3)\n",
      "Requirement already satisfied: six>=1.5 in c:\\users\\kalan\\appdata\\roaming\\python\\python312\\site-packages (from python-dateutil>=2.8.2->pandas) (1.17.0)\n"
     ]
    }
   ],
   "source": [
    "! pip install pandas"
   ]
  },
  {
   "cell_type": "code",
   "execution_count": 40,
   "metadata": {},
   "outputs": [],
   "source": [
    "import numpy as np\n",
    "from numpy.linalg import inv\n",
    "import matplotlib.pyplot as plt\n",
    "import pandas as pd"
   ]
  },
  {
   "cell_type": "code",
   "execution_count": 41,
   "metadata": {},
   "outputs": [],
   "source": [
    "def normal_equation(x,y):\n",
    "    h=inv(x.T@x)\n",
    "    w=h@x.T@y\n",
    "    return w\n",
    "\n",
    "def lr_predict(x,w):\n",
    "    return np.dot(x,w)\n",
    "\n",
    "def closed_form(x,y):\n",
    "    w=normal_equation(x,y)\n",
    "    y_hat=lr_predict(x,w)\n",
    "    return y_hat\n",
    "def mse_loss(y_hat,y):\n",
    "    error=y_hat-y\n",
    "    return np.sum(error*error)/error.shape[0]"
   ]
  },
  {
   "cell_type": "code",
   "execution_count": 42,
   "metadata": {},
   "outputs": [
    {
     "data": {
      "text/html": [
       "<div>\n",
       "<style scoped>\n",
       "    .dataframe tbody tr th:only-of-type {\n",
       "        vertical-align: middle;\n",
       "    }\n",
       "\n",
       "    .dataframe tbody tr th {\n",
       "        vertical-align: top;\n",
       "    }\n",
       "\n",
       "    .dataframe thead th {\n",
       "        text-align: right;\n",
       "    }\n",
       "</style>\n",
       "<table border=\"1\" class=\"dataframe\">\n",
       "  <thead>\n",
       "    <tr style=\"text-align: right;\">\n",
       "      <th></th>\n",
       "      <th>City</th>\n",
       "      <th>Temp(F)</th>\n",
       "      <th>Rainfall(mm)</th>\n",
       "      <th>Humidity(%)</th>\n",
       "      <th>Apples(ton)</th>\n",
       "      <th>Oranges(ton)</th>\n",
       "    </tr>\n",
       "  </thead>\n",
       "  <tbody>\n",
       "    <tr>\n",
       "      <th>0</th>\n",
       "      <td>Semnan</td>\n",
       "      <td>73.0</td>\n",
       "      <td>67.0</td>\n",
       "      <td>43.0</td>\n",
       "      <td>56.0</td>\n",
       "      <td>70.0</td>\n",
       "    </tr>\n",
       "    <tr>\n",
       "      <th>1</th>\n",
       "      <td>Golestan</td>\n",
       "      <td>91.0</td>\n",
       "      <td>88.0</td>\n",
       "      <td>64.0</td>\n",
       "      <td>81.0</td>\n",
       "      <td>101.0</td>\n",
       "    </tr>\n",
       "    <tr>\n",
       "      <th>2</th>\n",
       "      <td>Gilan</td>\n",
       "      <td>87.0</td>\n",
       "      <td>134.0</td>\n",
       "      <td>58.0</td>\n",
       "      <td>119.0</td>\n",
       "      <td>133.0</td>\n",
       "    </tr>\n",
       "    <tr>\n",
       "      <th>3</th>\n",
       "      <td>Ghazvin</td>\n",
       "      <td>102.0</td>\n",
       "      <td>43.0</td>\n",
       "      <td>37.0</td>\n",
       "      <td>22.0</td>\n",
       "      <td>37.0</td>\n",
       "    </tr>\n",
       "    <tr>\n",
       "      <th>4</th>\n",
       "      <td>Mazandaran</td>\n",
       "      <td>69.0</td>\n",
       "      <td>96.0</td>\n",
       "      <td>70.0</td>\n",
       "      <td>103.0</td>\n",
       "      <td>119.0</td>\n",
       "    </tr>\n",
       "  </tbody>\n",
       "</table>\n",
       "</div>"
      ],
      "text/plain": [
       "         City  Temp(F)  Rainfall(mm)  Humidity(%)  Apples(ton)  Oranges(ton)\n",
       "0      Semnan     73.0          67.0         43.0         56.0          70.0\n",
       "1    Golestan     91.0          88.0         64.0         81.0         101.0\n",
       "2       Gilan     87.0         134.0         58.0        119.0         133.0\n",
       "3     Ghazvin    102.0          43.0         37.0         22.0          37.0\n",
       "4  Mazandaran     69.0          96.0         70.0        103.0         119.0"
      ]
     },
     "execution_count": 42,
     "metadata": {},
     "output_type": "execute_result"
    }
   ],
   "source": [
    "df=pd.read_csv('weather.csv')\n",
    "df.head()\n"
   ]
  },
  {
   "cell_type": "code",
   "execution_count": 43,
   "metadata": {},
   "outputs": [
    {
     "data": {
      "text/plain": [
       "array([[ 67.,  73.,  43.],\n",
       "       [ 88.,  91.,  64.],\n",
       "       [134.,  87.,  58.],\n",
       "       [ 43., 102.,  37.],\n",
       "       [ 96.,  69.,  70.]])"
      ]
     },
     "execution_count": 43,
     "metadata": {},
     "output_type": "execute_result"
    }
   ],
   "source": [
    "x=df[[ 'Rainfall(mm)','Temp(F)','Humidity(%)']].values\n",
    "x"
   ]
  },
  {
   "cell_type": "code",
   "execution_count": 44,
   "metadata": {},
   "outputs": [
    {
     "data": {
      "text/plain": [
       "0     56.0\n",
       "1     81.0\n",
       "2    119.0\n",
       "3     22.0\n",
       "4    103.0\n",
       "Name: Apples(ton), dtype: float64"
      ]
     },
     "execution_count": 44,
     "metadata": {},
     "output_type": "execute_result"
    }
   ],
   "source": [
    "y=df['Apples(ton)']\n",
    "y"
   ]
  },
  {
   "cell_type": "code",
   "execution_count": 45,
   "metadata": {},
   "outputs": [
    {
     "data": {
      "text/plain": [
       "array([[1., 1., 1.],\n",
       "       [1., 1., 1.],\n",
       "       [1., 1., 1.],\n",
       "       [1., 1., 1.],\n",
       "       [1., 1., 1.]])"
      ]
     },
     "execution_count": 45,
     "metadata": {},
     "output_type": "execute_result"
    }
   ],
   "source": [
    "ones=np.ones((x.shape))\n",
    "ones"
   ]
  },
  {
   "cell_type": "code",
   "execution_count": 46,
   "metadata": {},
   "outputs": [
    {
     "data": {
      "text/plain": [
       "array([[1.],\n",
       "       [1.],\n",
       "       [1.],\n",
       "       [1.],\n",
       "       [1.]])"
      ]
     },
     "execution_count": 46,
     "metadata": {},
     "output_type": "execute_result"
    }
   ],
   "source": [
    "ones=np.ones((x.shape[0],(1)))\n",
    "ones"
   ]
  },
  {
   "cell_type": "code",
   "execution_count": 47,
   "metadata": {},
   "outputs": [
    {
     "data": {
      "text/plain": [
       "array([[  1.,  67.,  73.,  43.],\n",
       "       [  1.,  88.,  91.,  64.],\n",
       "       [  1., 134.,  87.,  58.],\n",
       "       [  1.,  43., 102.,  37.],\n",
       "       [  1.,  96.,  69.,  70.]])"
      ]
     },
     "execution_count": 47,
     "metadata": {},
     "output_type": "execute_result"
    }
   ],
   "source": [
    "x_new=np.concatenate((ones,x),axis=1)\n",
    "x_new"
   ]
  },
  {
   "cell_type": "code",
   "execution_count": 48,
   "metadata": {},
   "outputs": [
    {
     "data": {
      "text/plain": [
       "array([ 56.89083779,  82.37913697, 118.73717962,  21.11595158,\n",
       "       101.87689403])"
      ]
     },
     "execution_count": 48,
     "metadata": {},
     "output_type": "execute_result"
    }
   ],
   "source": [
    "y_hat=closed_form(x_new,y)\n",
    "y_hat"
   ]
  },
  {
   "cell_type": "code",
   "execution_count": 49,
   "metadata": {},
   "outputs": [
    {
     "data": {
      "text/plain": [
       "0.9615187875649459"
      ]
     },
     "execution_count": 49,
     "metadata": {},
     "output_type": "execute_result"
    }
   ],
   "source": [
    "mse_loss(y_hat,y)"
   ]
  },
  {
   "cell_type": "code",
   "execution_count": 50,
   "metadata": {},
   "outputs": [],
   "source": [
    "x=df[['Rainfall(mm)','Temp(F)','Humidity(%)']].values\n",
    "y=df['Oranges(ton)']"
   ]
  },
  {
   "cell_type": "code",
   "execution_count": 51,
   "metadata": {},
   "outputs": [
    {
     "data": {
      "text/plain": [
       "array([[1.],\n",
       "       [1.],\n",
       "       [1.],\n",
       "       [1.],\n",
       "       [1.]])"
      ]
     },
     "execution_count": 51,
     "metadata": {},
     "output_type": "execute_result"
    }
   ],
   "source": [
    "onse=np.ones((x.shape[0],1))\n",
    "ones"
   ]
  },
  {
   "cell_type": "code",
   "execution_count": 52,
   "metadata": {},
   "outputs": [
    {
     "data": {
      "text/plain": [
       "array([[  1.,  67.,  73.,  43.],\n",
       "       [  1.,  88.,  91.,  64.],\n",
       "       [  1., 134.,  87.,  58.],\n",
       "       [  1.,  43., 102.,  37.],\n",
       "       [  1.,  96.,  69.,  70.]])"
      ]
     },
     "execution_count": 52,
     "metadata": {},
     "output_type": "execute_result"
    }
   ],
   "source": [
    "x_new=np.concatenate((ones,x),axis=1)\n",
    "x_new"
   ]
  },
  {
   "cell_type": "code",
   "execution_count": 53,
   "metadata": {},
   "outputs": [
    {
     "data": {
      "text/plain": [
       "0.004723656551456912"
      ]
     },
     "execution_count": 53,
     "metadata": {},
     "output_type": "execute_result"
    }
   ],
   "source": [
    "y_hat=closed_form(x_new,y)\n",
    "\n",
    "mse_loss(y_hat,y)"
   ]
  },
  {
   "cell_type": "code",
   "execution_count": 54,
   "metadata": {},
   "outputs": [],
   "source": [
    "def calc_gradient(x,error):\n",
    "    gradient=np.dot(x.T,error)\n",
    "    return gradient\n",
    "\n",
    "def update_weights(w,lr,gradient):\n",
    "    new_weights=w-lr*gradient\n",
    "    return new_weights"
   ]
  },
  {
   "cell_type": "code",
   "execution_count": 55,
   "metadata": {},
   "outputs": [
    {
     "data": {
      "text/plain": [
       "(5, 3)"
      ]
     },
     "execution_count": 55,
     "metadata": {},
     "output_type": "execute_result"
    }
   ],
   "source": [
    "x.shape"
   ]
  },
  {
   "cell_type": "code",
   "execution_count": 56,
   "metadata": {},
   "outputs": [],
   "source": [
    "def train_lr_bgd(x,y,w,n_epochs,lr):\n",
    "    losses=[]\n",
    "\n",
    "    for i in range(n_epochs):\n",
    "        predictions=lr_predict(x,w)\n",
    "        error=predictions-y\n",
    "\n",
    "        loss=mse_loss(predictions,y)\n",
    "        losses.append(loss)\n",
    "\n",
    "\n",
    "        gradient=calc_gradient(x,error)\n",
    "        w=update_weights(w,lr,gradient)\n",
    "\n",
    "    return w,losses\n",
    "       \n",
    "\n"
   ]
  },
  {
   "cell_type": "code",
   "execution_count": 57,
   "metadata": {},
   "outputs": [
    {
     "name": "stderr",
     "output_type": "stream",
     "text": [
      "C:\\Users\\kalan\\AppData\\Local\\Temp\\ipykernel_6568\\2787503870.py:6: RuntimeWarning: invalid value encountered in subtract\n",
      "  new_weights=w-lr*gradient\n"
     ]
    },
    {
     "data": {
      "text/plain": [
       "0.0"
      ]
     },
     "execution_count": 57,
     "metadata": {},
     "output_type": "execute_result"
    }
   ],
   "source": [
    "lr=0.4\n",
    "n_epochs=1000\n",
    "w0=np.random.rand(4)\n",
    "\n",
    "w,losses=train_lr_bgd(x_new,y,w0,n_epochs,lr)\n",
    "losses[-1]"
   ]
  },
  {
   "cell_type": "code",
   "execution_count": 58,
   "metadata": {},
   "outputs": [
    {
     "data": {
      "text/plain": [
       "array([[  1.,  67.,  73.,  43.],\n",
       "       [  1.,  88.,  91.,  64.],\n",
       "       [  1., 134.,  87.,  58.],\n",
       "       [  1.,  43., 102.,  37.],\n",
       "       [  1.,  96.,  69.,  70.]])"
      ]
     },
     "execution_count": 58,
     "metadata": {},
     "output_type": "execute_result"
    }
   ],
   "source": [
    "x_new\n"
   ]
  },
  {
   "cell_type": "code",
   "execution_count": 59,
   "metadata": {},
   "outputs": [],
   "source": [
    "numbers= np.array([[73, 67, 43, 56, 70],\n",
    "                   [91, 88, 64, 81, 101],\n",
    "                   [87, 134, 58, 119, 133],\n",
    "                   [102, 43, 37, 22, 37],\n",
    "                   [102, 43, 37, 22, 37],\n",
    "                   [69, 96, 70, 103, 119]], dtype='float32')\n",
    "x=numbers[:,:4]\n",
    "y=numbers[:,4]"
   ]
  },
  {
   "cell_type": "code",
   "execution_count": 60,
   "metadata": {},
   "outputs": [
    {
     "data": {
      "text/plain": [
       "array([[  1.,  73.,  67.,  43.,  56.],\n",
       "       [  1.,  91.,  88.,  64.,  81.],\n",
       "       [  1.,  87., 134.,  58., 119.],\n",
       "       [  1., 102.,  43.,  37.,  22.],\n",
       "       [  1., 102.,  43.,  37.,  22.],\n",
       "       [  1.,  69.,  96.,  70., 103.]])"
      ]
     },
     "execution_count": 60,
     "metadata": {},
     "output_type": "execute_result"
    }
   ],
   "source": [
    "ones=np.ones((x.shape[0],1))\n",
    "x_new=np.concatenate((ones,x),axis=1)\n",
    "x_new"
   ]
  },
  {
   "cell_type": "code",
   "execution_count": 61,
   "metadata": {},
   "outputs": [
    {
     "data": {
      "text/plain": [
       "0.04944289724032084"
      ]
     },
     "execution_count": 61,
     "metadata": {},
     "output_type": "execute_result"
    }
   ],
   "source": [
    "y_hat=closed_form(x,y)\n",
    "mse_loss(y_hat,y)\n"
   ]
  },
  {
   "cell_type": "code",
   "execution_count": 62,
   "metadata": {},
   "outputs": [
    {
     "data": {
      "text/plain": [
       "0.5072850091997841"
      ]
     },
     "execution_count": 62,
     "metadata": {},
     "output_type": "execute_result"
    }
   ],
   "source": [
    "lr=0.000009\n",
    "epochs=1000\n",
    "W0=np.random.rand(5)\n",
    "W,losses=train_lr_bgd(x_new,y,W0,epochs,lr)\n",
    "losses[-1]"
   ]
  },
  {
   "cell_type": "code",
   "execution_count": 63,
   "metadata": {},
   "outputs": [],
   "source": [
    "t0=5\n",
    "t1=50000\n",
    "\n",
    "def learning_schedule(t):\n",
    "    return t0/(t+t1)\n",
    "\n",
    "#def train_lr_bgd(X,Y,W,n_epochs,lr):\n",
    "\n",
    "def train_lr_sgd(X,Y,W,n_epochs):\n",
    "    losses=[]\n",
    "    m=X.shape[0]\n",
    "    for epoch in range(n_epochs):\n",
    "        for iteration in range(m):\n",
    "            random_index = np.random.randint(m)\n",
    "            xi=X[random_index:random_index+1]\n",
    "            yi=Y[random_index:random_index+1]\n",
    "\n",
    "            predictions=lr_predict(xi,W)\n",
    "            error=predictions-yi\n",
    "\n",
    "            loss=mse_loss(predictions,yi)\n",
    "            losses.append(loss)\n",
    "\n",
    "\n",
    "            lr = learning_schedule(epoch*m + iteration)\n",
    "\n",
    "            gradient=calc_gradient(xi,error)\n",
    "            W=update_weights(W,lr,gradient)\n",
    "\n",
    "    return W,losses\n"
   ]
  },
  {
   "cell_type": "code",
   "execution_count": 64,
   "metadata": {},
   "outputs": [
    {
     "data": {
      "text/plain": [
       "0.0016741034449155488"
      ]
     },
     "execution_count": 64,
     "metadata": {},
     "output_type": "execute_result"
    }
   ],
   "source": [
    "t0=5\n",
    "t1=500000\n",
    "epochs=10\n",
    "w0=np.random.rand(5)\n",
    "w,losses=train_lr_sgd(x_new,y,w0,n_epochs)\n",
    "losses[-1]"
   ]
  }
 ],
 "metadata": {
  "kernelspec": {
   "display_name": "base",
   "language": "python",
   "name": "python3"
  },
  "language_info": {
   "codemirror_mode": {
    "name": "ipython",
    "version": 3
   },
   "file_extension": ".py",
   "mimetype": "text/x-python",
   "name": "python",
   "nbconvert_exporter": "python",
   "pygments_lexer": "ipython3",
   "version": "3.12.4"
  }
 },
 "nbformat": 4,
 "nbformat_minor": 2
}
